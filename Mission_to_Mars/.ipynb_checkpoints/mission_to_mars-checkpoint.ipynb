{
 "cells": [
  {
   "cell_type": "code",
   "execution_count": 1,
   "metadata": {},
   "outputs": [],
   "source": [
    "# Add dependencies\n",
    "import pandas as pd\n",
    "import time\n",
    "from bs4 import BeautifulSoup as bs\n",
    "import requests\n",
    "from splinter import Browser\n",
    "import pymongo"
   ]
  },
  {
   "cell_type": "code",
   "execution_count": 2,
   "metadata": {},
   "outputs": [
    {
     "name": "stdout",
     "output_type": "stream",
     "text": [
      "Status: 200\n",
      "Header: \n",
      "{'Content-Type': 'text/html; charset=utf-8', 'Transfer-Encoding': 'chunked', 'Connection': 'keep-alive', 'Date': 'Sun, 15 Sep 2019 17:30:22 GMT', 'Server': 'Apache', 'Cache-Control': 'max-age=900, public, public', 'X-Frame-Options': 'ALLOWALL', 'X-Runtime': '0.260253', 'X-Request-Id': 'cb1df811-d3ed-4fa3-bac5-451eaa333385', 'X-Powered-By': 'Phusion Passenger', 'Strict-Transport-Security': 'max-age=31536000; includeSubDomains; preload', 'Status': '200 OK', 'Content-Encoding': 'gzip', 'Vary': 'Accept-Encoding', 'X-Cache': 'Hit from cloudfront', 'Via': '1.1 517d2577302def91b3dd63d535e63fd2.cloudfront.net (CloudFront)', 'X-Amz-Cf-Pop': 'MIA3-C1', 'X-Amz-Cf-Id': 'zevvdiUSQ-X6_NOuDdcgGfr8944r6xsEtiLnpLbcNw9U3LcaeOgxXg==', 'Age': '542'}\n"
     ]
    }
   ],
   "source": [
    "# Setup pull from nasa\n",
    "url = \"https://mars.nasa.gov/news/\"\n",
    "response = requests.get(url)\n",
    "soup = bs(response.text, 'lxml')\n",
    "# Print response comments\n",
    "print(\"Status: \" + str(response.status_code))\n",
    "print(\"Header: \")\n",
    "print(response.headers)"
   ]
  },
  {
   "cell_type": "code",
   "execution_count": 3,
   "metadata": {},
   "outputs": [
    {
     "name": "stdout",
     "output_type": "stream",
     "text": [
      "Title: NASA Invites Students to Name Mars 2020 Rover\n",
      "Paragraph: Through Nov. 1, K-12 students in the U.S. are encouraged to enter an essay contest to name NASA's next Mars rover.\n"
     ]
    }
   ],
   "source": [
    "# Find the location in HTML for title and paragraph for first article\n",
    "results = soup.find_all('div', class_=\"image_and_description_container\")\n",
    "news_title = results[0].find_all(\"img\")[1][\"alt\"]\n",
    "news_p = results[0].a.div.div.text.strip('\\n')\n",
    "print(\"Title: \" + news_title)\n",
    "print(\"Paragraph: \" + news_p)"
   ]
  },
  {
   "cell_type": "code",
   "execution_count": 4,
   "metadata": {},
   "outputs": [],
   "source": [
    "# Setup splinter drivers \n",
    "executable_path = {'executable_path': 'chromedriver.exe'}\n",
    "browser = Browser('chrome', **executable_path, headless=False)"
   ]
  },
  {
   "cell_type": "code",
   "execution_count": 5,
   "metadata": {},
   "outputs": [],
   "source": [
    "# Pull from Mars News (The prior method was not pulling the latest Mars info)\n",
    "url = \"https://mars.nasa.gov/news/\"\n",
    "browser.visit(url)\n",
    "time.sleep(1)"
   ]
  },
  {
   "cell_type": "code",
   "execution_count": 6,
   "metadata": {},
   "outputs": [
    {
     "name": "stdout",
     "output_type": "stream",
     "text": [
      "Title: NASA's Mars 2020 Comes Full Circle\n",
      "Paragraph: Aiming to pinpoint the Martian vehicle's center of gravity, engineers took NASA's 2,300-pound Mars 2020 rover for a spin in the clean room at JPL. \n"
     ]
    }
   ],
   "source": [
    "# get Title and Paragraph\n",
    "html = browser.html\n",
    "soup = bs(html, 'html.parser')\n",
    "results = soup.find_all('div', class_=\"image_and_description_container\")\n",
    "news_title = results[0].find_all(\"h3\")[0].text\n",
    "news_p = results[0].a.div.div.text.strip('\\n')\n",
    "print(\"Title: \" + news_title)\n",
    "print(\"Paragraph: \" + news_p)"
   ]
  },
  {
   "cell_type": "code",
   "execution_count": 7,
   "metadata": {},
   "outputs": [],
   "source": [
    "browser.quit()"
   ]
  },
  {
   "cell_type": "code",
   "execution_count": 8,
   "metadata": {},
   "outputs": [],
   "source": [
    "# Setup splinter drivers\n",
    "executable_path = {'executable_path': 'chromedriver.exe'}\n",
    "browser = Browser('chrome', **executable_path, headless=False)"
   ]
  },
  {
   "cell_type": "code",
   "execution_count": 9,
   "metadata": {},
   "outputs": [
    {
     "name": "stdout",
     "output_type": "stream",
     "text": [
      "https://www.jpl.nasa.gov/spaceimages/images/mediumsize/PIA17845_ip.jpg\n"
     ]
    }
   ],
   "source": [
    "while True:\n",
    "    url = \"https://www.jpl.nasa.gov/spaceimages/?search=&category=Mars\"\n",
    "    browser.visit(url)\n",
    "    time.sleep(1)\n",
    "    browser.click_link_by_partial_text('FULL')\n",
    "    time.sleep(1)\n",
    "    html = browser.html\n",
    "    soup = bs(html, 'html.parser')\n",
    "    results = soup.find_all('div',class_=\"fancybox-inner\")\n",
    "    \n",
    "    try:\n",
    "        featured_image_url = \"https://www.jpl.nasa.gov\" + results[0].find_all(\"img\")[0][\"src\"]\n",
    "        break\n",
    "    except:\n",
    "        cont = True\n",
    "\n",
    "print(featured_image_url)"
   ]
  },
  {
   "cell_type": "code",
   "execution_count": 10,
   "metadata": {},
   "outputs": [],
   "source": [
    "browser.quit()"
   ]
  },
  {
   "cell_type": "code",
   "execution_count": 11,
   "metadata": {},
   "outputs": [
    {
     "name": "stdout",
     "output_type": "stream",
     "text": [
      "InSight sol 265 (2019-08-25) low -99.4ºC (-146.9ºF) high -26.3ºC (-15.3ºF)\n",
      "winds from the SSE at 5.3 m/s (12.0 mph) gusting to 16.1 m/s (35.9 mph)\n",
      "pressure at 7.50 hPapic.twitter.com/9YLawm67zS\n"
     ]
    }
   ],
   "source": [
    "# Pull Weather Data from Twitter\n",
    "url = \"https://twitter.com/marswxreport?lang=en\"\n",
    "response = requests.get(url)\n",
    "soup = bs(response.text, 'lxml')\n",
    "results = soup.find_all(\"p\",class_=\"TweetTextSize\")\n",
    "for result in results:\n",
    "    if (result.text[0:7] == \"InSight\"):\n",
    "        mars_weather = result.text\n",
    "        break\n",
    "print(mars_weather)"
   ]
  },
  {
   "cell_type": "code",
   "execution_count": 12,
   "metadata": {
    "scrolled": true
   },
   "outputs": [
    {
     "data": {
      "text/html": [
       "<div>\n",
       "<style scoped>\n",
       "    .dataframe tbody tr th:only-of-type {\n",
       "        vertical-align: middle;\n",
       "    }\n",
       "\n",
       "    .dataframe tbody tr th {\n",
       "        vertical-align: top;\n",
       "    }\n",
       "\n",
       "    .dataframe thead th {\n",
       "        text-align: right;\n",
       "    }\n",
       "</style>\n",
       "<table border=\"1\" class=\"dataframe\">\n",
       "  <thead>\n",
       "    <tr style=\"text-align: right;\">\n",
       "      <th></th>\n",
       "      <th>Value</th>\n",
       "    </tr>\n",
       "    <tr>\n",
       "      <th>Parameter</th>\n",
       "      <th></th>\n",
       "    </tr>\n",
       "  </thead>\n",
       "  <tbody>\n",
       "    <tr>\n",
       "      <th>Diameter:</th>\n",
       "      <td>6,779 km</td>\n",
       "    </tr>\n",
       "    <tr>\n",
       "      <th>Mass:</th>\n",
       "      <td>6.39 × 10^23 kg</td>\n",
       "    </tr>\n",
       "    <tr>\n",
       "      <th>Moons:</th>\n",
       "      <td>2</td>\n",
       "    </tr>\n",
       "    <tr>\n",
       "      <th>Distance from Sun:</th>\n",
       "      <td>227,943,824 km</td>\n",
       "    </tr>\n",
       "    <tr>\n",
       "      <th>Length of Year:</th>\n",
       "      <td>687 Earth days</td>\n",
       "    </tr>\n",
       "    <tr>\n",
       "      <th>Temperature:</th>\n",
       "      <td>-153 to 20 °C</td>\n",
       "    </tr>\n",
       "  </tbody>\n",
       "</table>\n",
       "</div>"
      ],
      "text/plain": [
       "                              Value\n",
       "Parameter                          \n",
       "Diameter:                  6,779 km\n",
       "Mass:               6.39 × 10^23 kg\n",
       "Moons:                            2\n",
       "Distance from Sun:   227,943,824 km\n",
       "Length of Year:      687 Earth days\n",
       "Temperature:          -153 to 20 °C"
      ]
     },
     "execution_count": 12,
     "metadata": {},
     "output_type": "execute_result"
    }
   ],
   "source": [
    "url = \"https://space-facts.com/mars/\"\n",
    "response = requests.get(url)\n",
    "soup = bs(response.text, 'lxml')\n",
    "tables = pd.read_html(url)\n",
    "df_mars = tables[0]\n",
    "df_mars = df_mars.drop(\"Earth\",1)\n",
    "df_mars.columns = [\"Parameter\", \"Value\"]\n",
    "df_mars = df_mars.set_index(\"Parameter\")\n",
    "df_mars.to_html('Mars_Parameters.html')\n",
    "mars_html = df_mars.to_html()\n",
    "mars_html = mars_html.replace(\"\\n\", \"\")\n",
    "df_mars"
   ]
  },
  {
   "cell_type": "code",
   "execution_count": 13,
   "metadata": {},
   "outputs": [],
   "source": [
    "labels = [\"Valles\", \"Cerberus\", \"Schiaparelli\", \"Syrtis\"]\n",
    "hemisphere_image_urls = []"
   ]
  },
  {
   "cell_type": "code",
   "execution_count": 14,
   "metadata": {},
   "outputs": [],
   "source": [
    "for label in labels:\n",
    "    # Setup splinter drivers\n",
    "    executable_path = {'executable_path': 'chromedriver.exe'}\n",
    "    browser = Browser('chrome', **executable_path, headless=False)\n",
    "\n",
    "    # Go to spcae images\n",
    "    url = \"https://astrogeology.usgs.gov/search/results?q=hemisphere+enhanced&k1=target&v1=Mars\"\n",
    "    browser.visit(url)\n",
    "    time.sleep(1)\n",
    "    browser.click_link_by_partial_text(label)\n",
    "    time.sleep(1)\n",
    "    html = browser.html\n",
    "    soup = bs(html, 'html.parser')\n",
    "    soup.find(\"h2\",class_=\"title\").text\n",
    "    results = soup.find_all('div',class_=\"downloads\")\n",
    "    hemisphere_image_urls.append({\"title\": soup.find(\"h2\",class_=\"title\").text, \"img_ulr\" : results[0].li.a[\"href\"]})\n",
    "    browser.quit()"
   ]
  },
  {
   "cell_type": "code",
   "execution_count": 15,
   "metadata": {},
   "outputs": [
    {
     "name": "stdout",
     "output_type": "stream",
     "text": [
      "[{'title': 'Valles Marineris Hemisphere Enhanced', 'img_ulr': 'http://astropedia.astrogeology.usgs.gov/download/Mars/Viking/valles_marineris_enhanced.tif/full.jpg'}, {'title': 'Cerberus Hemisphere Enhanced', 'img_ulr': 'http://astropedia.astrogeology.usgs.gov/download/Mars/Viking/cerberus_enhanced.tif/full.jpg'}, {'title': 'Schiaparelli Hemisphere Enhanced', 'img_ulr': 'http://astropedia.astrogeology.usgs.gov/download/Mars/Viking/schiaparelli_enhanced.tif/full.jpg'}, {'title': 'Syrtis Major Hemisphere Enhanced', 'img_ulr': 'http://astropedia.astrogeology.usgs.gov/download/Mars/Viking/syrtis_major_enhanced.tif/full.jpg'}]\n"
     ]
    }
   ],
   "source": [
    "print(hemisphere_image_urls)"
   ]
  },
  {
   "cell_type": "code",
   "execution_count": 16,
   "metadata": {},
   "outputs": [
    {
     "data": {
      "text/plain": [
       "{'news_title': \"NASA's Mars 2020 Comes Full Circle\",\n",
       " 'news': \"Aiming to pinpoint the Martian vehicle's center of gravity, engineers took NASA's 2,300-pound Mars 2020 rover for a spin in the clean room at JPL. \",\n",
       " 'featured': 'https://www.jpl.nasa.gov/spaceimages/images/mediumsize/PIA17845_ip.jpg',\n",
       " 'weather': 'InSight sol 265 (2019-08-25) low -99.4ºC (-146.9ºF) high -26.3ºC (-15.3ºF)\\nwinds from the SSE at 5.3 m/s (12.0 mph) gusting to 16.1 m/s (35.9 mph)\\npressure at 7.50 hPapic.twitter.com/9YLawm67zS',\n",
       " 'hemisphere': [{'title': 'Valles Marineris Hemisphere Enhanced',\n",
       "   'img_ulr': 'http://astropedia.astrogeology.usgs.gov/download/Mars/Viking/valles_marineris_enhanced.tif/full.jpg'},\n",
       "  {'title': 'Cerberus Hemisphere Enhanced',\n",
       "   'img_ulr': 'http://astropedia.astrogeology.usgs.gov/download/Mars/Viking/cerberus_enhanced.tif/full.jpg'},\n",
       "  {'title': 'Schiaparelli Hemisphere Enhanced',\n",
       "   'img_ulr': 'http://astropedia.astrogeology.usgs.gov/download/Mars/Viking/schiaparelli_enhanced.tif/full.jpg'},\n",
       "  {'title': 'Syrtis Major Hemisphere Enhanced',\n",
       "   'img_ulr': 'http://astropedia.astrogeology.usgs.gov/download/Mars/Viking/syrtis_major_enhanced.tif/full.jpg'}]}"
      ]
     },
     "execution_count": 16,
     "metadata": {},
     "output_type": "execute_result"
    }
   ],
   "source": [
    "mars_data = {\"news_title\" : news_title,\n",
    "             \"news\" : news_p,\n",
    "             \"featured\" : featured_image_url,\n",
    "             \"weather\" : mars_weather,\n",
    "             \"hemisphere\" : hemisphere_image_urls\n",
    "            }\n",
    "mars_data"
   ]
  },
  {
   "cell_type": "code",
   "execution_count": null,
   "metadata": {},
   "outputs": [],
   "source": []
  }
 ],
 "metadata": {
  "kernelspec": {
   "display_name": "Python 36 (PythonData)",
   "language": "python",
   "name": "pythondata"
  },
  "language_info": {
   "codemirror_mode": {
    "name": "ipython",
    "version": 3
   },
   "file_extension": ".py",
   "mimetype": "text/x-python",
   "name": "python",
   "nbconvert_exporter": "python",
   "pygments_lexer": "ipython3",
   "version": "3.6.8"
  },
  "nteract": {
   "version": "0.2.0"
  },
  "varInspector": {
   "cols": {
    "lenName": 16,
    "lenType": 16,
    "lenVar": 40
   },
   "kernels_config": {
    "python": {
     "delete_cmd_postfix": "",
     "delete_cmd_prefix": "del ",
     "library": "var_list.py",
     "varRefreshCmd": "print(var_dic_list())"
    },
    "r": {
     "delete_cmd_postfix": ") ",
     "delete_cmd_prefix": "rm(",
     "library": "var_list.r",
     "varRefreshCmd": "cat(var_dic_list()) "
    }
   },
   "types_to_exclude": [
    "module",
    "function",
    "builtin_function_or_method",
    "instance",
    "_Feature"
   ],
   "window_display": false
  }
 },
 "nbformat": 4,
 "nbformat_minor": 2
}
